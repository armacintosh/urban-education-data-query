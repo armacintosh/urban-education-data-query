{
 "cells": [
  {
   "cell_type": "code",
   "execution_count": null,
   "metadata": {},
   "outputs": [
    {
     "data": {
      "text/plain": [
       "True"
      ]
     },
     "execution_count": 10,
     "metadata": {},
     "output_type": "execute_result"
    }
   ],
   "source": [
    "import pandas as pd\n",
    "from neo4j import GraphDatabase\n",
    "from dotenv import load_dotenv\n",
    "import os\n",
    "\n",
    "# Load environment variables from .env file\n",
    "load_dotenv()"
   ]
  },
  {
   "cell_type": "code",
   "execution_count": 7,
   "metadata": {},
   "outputs": [],
   "source": [
    "# Load the Excel codebook\n",
    "file_path = \"data/codebooks/codebook_colleges_ipeds_directory.xlsx\"\n",
    "\n",
    "# Load the first sheet\n",
    "df = pd.read_excel(file_path, sheet_name='variables')\n",
    "\n",
    "df['source'] = 'ipeds'\n",
    "df['endpoint_name'] = 'directory'"
   ]
  },
  {
   "cell_type": "markdown",
   "metadata": {},
   "source": [
    "- Next here to scale across all codebooks"
   ]
  },
  {
   "cell_type": "code",
   "execution_count": 12,
   "metadata": {},
   "outputs": [
    {
     "data": {
      "text/html": [
       "<div>\n",
       "<style scoped>\n",
       "    .dataframe tbody tr th:only-of-type {\n",
       "        vertical-align: middle;\n",
       "    }\n",
       "\n",
       "    .dataframe tbody tr th {\n",
       "        vertical-align: top;\n",
       "    }\n",
       "\n",
       "    .dataframe thead th {\n",
       "        text-align: right;\n",
       "    }\n",
       "</style>\n",
       "<table border=\"1\" class=\"dataframe\">\n",
       "  <thead>\n",
       "    <tr style=\"text-align: right;\">\n",
       "      <th></th>\n",
       "      <th>variable</th>\n",
       "      <th>format</th>\n",
       "      <th>label</th>\n",
       "      <th>source</th>\n",
       "      <th>endpoint_name</th>\n",
       "    </tr>\n",
       "  </thead>\n",
       "  <tbody>\n",
       "    <tr>\n",
       "      <th>0</th>\n",
       "      <td>unitid</td>\n",
       "      <td>numeric</td>\n",
       "      <td>Unit ID number</td>\n",
       "      <td>ipeds</td>\n",
       "      <td>directory</td>\n",
       "    </tr>\n",
       "    <tr>\n",
       "      <th>1</th>\n",
       "      <td>year</td>\n",
       "      <td>numeric</td>\n",
       "      <td>Academic year (fall semester)</td>\n",
       "      <td>ipeds</td>\n",
       "      <td>directory</td>\n",
       "    </tr>\n",
       "    <tr>\n",
       "      <th>2</th>\n",
       "      <td>opeid</td>\n",
       "      <td>string</td>\n",
       "      <td>8-digit Office of Postsecondary Education (OPE...</td>\n",
       "      <td>ipeds</td>\n",
       "      <td>directory</td>\n",
       "    </tr>\n",
       "    <tr>\n",
       "      <th>3</th>\n",
       "      <td>inst_name</td>\n",
       "      <td>string</td>\n",
       "      <td>Institution (entity) name</td>\n",
       "      <td>ipeds</td>\n",
       "      <td>directory</td>\n",
       "    </tr>\n",
       "    <tr>\n",
       "      <th>4</th>\n",
       "      <td>inst_alias</td>\n",
       "      <td>string</td>\n",
       "      <td>Institution name alias</td>\n",
       "      <td>ipeds</td>\n",
       "      <td>directory</td>\n",
       "    </tr>\n",
       "  </tbody>\n",
       "</table>\n",
       "</div>"
      ],
      "text/plain": [
       "     variable   format                                              label  \\\n",
       "0      unitid  numeric                                     Unit ID number   \n",
       "1        year  numeric                      Academic year (fall semester)   \n",
       "2       opeid   string  8-digit Office of Postsecondary Education (OPE...   \n",
       "3   inst_name   string                          Institution (entity) name   \n",
       "4  inst_alias   string                             Institution name alias   \n",
       "\n",
       "  source endpoint_name  \n",
       "0  ipeds     directory  \n",
       "1  ipeds     directory  \n",
       "2  ipeds     directory  \n",
       "3  ipeds     directory  \n",
       "4  ipeds     directory  "
      ]
     },
     "execution_count": 12,
     "metadata": {},
     "output_type": "execute_result"
    }
   ],
   "source": [
    "df.head()"
   ]
  },
  {
   "cell_type": "code",
   "execution_count": null,
   "metadata": {},
   "outputs": [],
   "source": [
    "\n",
    "# Get the URI and authentication credentials from environment variables\n",
    "URI = os.getenv(\"NEO4J_URI\")\n",
    "AUTH = (os.getenv(\"NEO4J_USER\"), os.getenv(\"NEO4J_PASSWORD\"))\n",
    "\n",
    "# initalize the driver\n",
    "driver = GraphDatabase.driver(URI, auth=AUTH)\n"
   ]
  },
  {
   "cell_type": "code",
   "execution_count": 20,
   "metadata": {},
   "outputs": [
    {
     "name": "stdout",
     "output_type": "stream",
     "text": [
      "Connected! Test Query Result: 1\n"
     ]
    }
   ],
   "source": [
    "# Attempt to connect to Neo4j Aura\n",
    "try:\n",
    "    with GraphDatabase.driver(URI, auth=AUTH) as driver:\n",
    "        with driver.session() as session:\n",
    "            result = session.run(\"RETURN 1 AS test\")\n",
    "            for record in result:\n",
    "                print(\"Connected! Test Query Result:\", record[\"test\"])\n",
    "except Exception as e:\n",
    "    print(\"Error:\", e)"
   ]
  },
  {
   "cell_type": "code",
   "execution_count": null,
   "metadata": {},
   "outputs": [
    {
     "name": "stderr",
     "output_type": "stream",
     "text": [
      "/var/folders/cc/rk1x9by94ks5m201ycvs1b0m0000gn/T/ipykernel_50853/3368087144.py:5: DeprecationWarning: Using a driver after it has been closed is deprecated. Future versions of the driver will raise an error.\n",
      "  with driver.session() as session:\n"
     ]
    },
    {
     "name": "stdout",
     "output_type": "stream",
     "text": [
      "Knowledge graph populated!\n"
     ]
    }
   ],
   "source": [
    "# Function to run a query\n",
    "def run_query(query, parameters):\n",
    "    with driver.session() as session:\n",
    "        session.run(query, parameters)\n",
    "\n",
    "# Create Nodes and Relationships in Neo4j\n",
    "def create_knowledge_graph(data):\n",
    "    for _, row in data.iterrows():\n",
    "        variable_name = row['variable']\n",
    "        format = row['format']\n",
    "        label = row['label']\n",
    "        source = row['source']\n",
    "        endpoint_name = row['endpoint_name']\n",
    "\n",
    "        # Create Variable node\n",
    "        variable_query = \"\"\"\n",
    "        MERGE (v:Variable {name: $name})\n",
    "        ON CREATE SET v.format = $format, v.label = $label\n",
    "        \"\"\"\n",
    "        run_query(variable_query, {\"name\": variable_name, \"format\": format, \"label\": label})\n",
    "\n",
    "        # Create Source node\n",
    "        source_query = \"\"\"\n",
    "        MERGE (s:Source {name: $name})\n",
    "        \"\"\"\n",
    "        run_query(source_query, {\"name\": source})\n",
    "\n",
    "        # Create Endpoint Name node\n",
    "        endpoint_query = \"\"\"\n",
    "        MERGE (e:Endpoint {name: $name})\n",
    "        \"\"\"\n",
    "        run_query(endpoint_query, {\"name\": endpoint_name})\n",
    "\n",
    "        # Create Relationships\n",
    "        relationship_query_1 = \"\"\"\n",
    "        MATCH (v:Variable {name: $variable_name})\n",
    "        MATCH (e:Endpoint {name: $endpoint_name})\n",
    "        MERGE (v)-[:EXISTS_IN]->(e)\n",
    "        \"\"\"\n",
    "        run_query(relationship_query_1, {\"variable_name\": variable_name, \"endpoint_name\": endpoint_name})\n",
    "\n",
    "        relationship_query_2 = \"\"\"\n",
    "        MATCH (e:Endpoint {name: $endpoint_name})\n",
    "        MATCH (s:Source {name: $source})\n",
    "        MERGE (e)-[:PROVIDED_BY]->(s)\n",
    "        \"\"\"\n",
    "        run_query(relationship_query_2, {\"endpoint_name\": endpoint_name, \"source\": source})\n",
    "\n",
    "        relationship_query_3 = \"\"\"\n",
    "        MATCH (v:Variable {name: $variable_name})\n",
    "        MATCH (s:Source {name: $source})\n",
    "        MERGE (v)-[:PROVIDED_BY]->(s)\n",
    "        \"\"\"\n",
    "        run_query(relationship_query_3, {\"variable_name\": variable_name, \"source\": source})\n",
    "\n",
    "# Call the function with your DataFrame\n",
    "create_knowledge_graph(df)\n",
    "\n",
    "print(\"Knowledge graph populated!\")"
   ]
  },
  {
   "cell_type": "code",
   "execution_count": 22,
   "metadata": {},
   "outputs": [
    {
     "name": "stdout",
     "output_type": "stream",
     "text": [
      "Connection successful!\n"
     ]
    }
   ],
   "source": [
    "# Check the data in the graph\n",
    "with GraphDatabase.driver(URI, auth=AUTH) as driver:\n",
    "    with driver.session() as session:\n",
    "        result = session.run(\"RETURN 'Connection successful!' AS message\")\n",
    "        for record in result:\n",
    "            print(record[\"message\"])"
   ]
  },
  {
   "cell_type": "markdown",
   "metadata": {},
   "source": [
    "# Query the Graph"
   ]
  },
  {
   "cell_type": "code",
   "execution_count": null,
   "metadata": {},
   "outputs": [],
   "source": [
    "def get_variables_and_sources():\n",
    "    query = \"\"\"\n",
    "    MATCH (v:Variable)-[:EXISTS_IN]->(e:Endpoint)-[:PROVIDED_BY]->(s:Source)\n",
    "    RETURN v.name AS variable, v.label AS label, e.name AS endpoint, s.name AS source\n",
    "    \"\"\"\n",
    "    with driver.session() as session:\n",
    "        result = session.run(query)\n",
    "        for record in result:\n",
    "            print(\n",
    "                f\"Variable: {record['variable']}, \"\n",
    "                f\"Label: {record['label']}, \"\n",
    "                f\"Endpoint: {record['endpoint']}, \"\n",
    "                f\"Source: {record['source']}\"\n",
    "            )\n",
    "\n",
    "# Call the function to test\n",
    "get_variables_and_sources()"
   ]
  },
  {
   "cell_type": "code",
   "execution_count": null,
   "metadata": {},
   "outputs": [],
   "source": [
    "def get_relationships():\n",
    "    query = \"\"\"\n",
    "    MATCH (a)-[r]->(b)\n",
    "    RETURN a.name AS from_node, type(r) AS relationship, b.name AS to_node\n",
    "    \"\"\"\n",
    "    with driver.session() as session:\n",
    "        result = session.run(query)\n",
    "        print(\"Relationships in the Graph:\")\n",
    "        for record in result:\n",
    "            print(\n",
    "                f\"From: {record['from_node']}, \"\n",
    "                f\"Relationship: {record['relationship']}, \"\n",
    "                f\"To: {record['to_node']}\"\n",
    "            )\n",
    "\n",
    "# Call the function to test\n",
    "get_relationships()"
   ]
  }
 ],
 "metadata": {
  "kernelspec": {
   "display_name": ".venv",
   "language": "python",
   "name": "python3"
  },
  "language_info": {
   "codemirror_mode": {
    "name": "ipython",
    "version": 3
   },
   "file_extension": ".py",
   "mimetype": "text/x-python",
   "name": "python",
   "nbconvert_exporter": "python",
   "pygments_lexer": "ipython3",
   "version": "3.13.1"
  }
 },
 "nbformat": 4,
 "nbformat_minor": 2
}
