{
 "cells": [
  {
   "cell_type": "code",
   "execution_count": 19,
   "metadata": {},
   "outputs": [],
   "source": [
    "import pandas as pd\n",
    "import numpy as np\n",
    "from faker import Faker\n",
    "import json\n",
    "\n",
    "fake = Faker()"
   ]
  },
  {
   "cell_type": "code",
   "execution_count": 15,
   "metadata": {},
   "outputs": [],
   "source": [
    "# Function to generate a random 20 digit alphanumeric string`\n",
    "def generate_name():\n",
    "    return fake.name()\n",
    "\n",
    "def generate_applicant_id():\n",
    "    return ''.join(fake.random_choices(elements='0123456789ABCDEFGHIJKLMNOPQRSTUVWXYZ', length=20))\n",
    "\n",
    "# Function to generate a normally distributed Casper score\n",
    "def generate_casper_score():\n",
    "    return round(np.random.normal(0, 1.5), 2)\n",
    "\n",
    "# Function to generate highest education of parents\n",
    "def generate_highest_education_parents():\n",
    "    return np.random.choice(['high school', 'bachelors degree', 'graduate degree', 'professional degree'], p=[0.25, 0.25, 0.25, 0.25])\n",
    "\n",
    "# Function to generate household income\n",
    "def generate_household_income():\n",
    "    return np.random.choice(['< 50000', '50000 to 75000', '75000 to 100000', '100000 to 150000', '> 150000'], p=[0.2, 0.2, 0.2, 0.2, 0.2])\n",
    "\n",
    "# \n",
    "df_student_summaries = pd.read_csv('student_summaries.csv')\n"
   ]
  },
  {
   "cell_type": "code",
   "execution_count": 29,
   "metadata": {},
   "outputs": [],
   "source": [
    "# Assuming df_schools is a DataFrame that has already been defined elsewhere\n",
    "df_schools = pd.read_csv('df_schools.csv')\n",
    "df_sampled_schools = df_schools[['zip_location', 'meps_poverty_pct']].sample(n=1000, random_state=1)"
   ]
  },
  {
   "cell_type": "code",
   "execution_count": 36,
   "metadata": {},
   "outputs": [],
   "source": [
    "import json\n",
    "\n",
    "# Load the institutions.json file\n",
    "with open('institutions.json', 'r') as file:\n",
    "    institutions = json.load(file)\n",
    "\n",
    "# Extract unitid values\n",
    "unitids = [institution['unitid'] for institution in institutions]\n"
   ]
  },
  {
   "cell_type": "code",
   "execution_count": 37,
   "metadata": {},
   "outputs": [
    {
     "name": "stdout",
     "output_type": "stream",
     "text": [
      "           applicant_id               name  casper_z         parent_ed  \\\n",
      "0  9DEDTDUZ5Q9FHBUJPRHZ      Brandon Davis     -0.48   graduate degree   \n",
      "1  2DITI9L1OBI7RM30FDU6  Courtney Anderson     -0.32  bachelors degree   \n",
      "2  KZHA4K0MLMG1AO54V4PG     Gabriel Wilson     -2.28  bachelors degree   \n",
      "3  JQIH6NGTNPFZIF3CUE1R       Kenneth Diaz      0.17       high school   \n",
      "4  W4N4YJE7UB1H26JP4PHD         Donna Hall     -2.11  bachelors degree   \n",
      "\n",
      "  household_income    zip  meps_poverty_pct  \\\n",
      "0         > 150000  35023         14.274462   \n",
      "1          < 50000  72662         19.373596   \n",
      "2   50000 to 75000  94539          0.000000   \n",
      "3   50000 to 75000  92626               NaN   \n",
      "4   50000 to 75000  93535         19.556446   \n",
      "\n",
      "                                             summary  \\\n",
      "0  The response included a discussion of clear co...   \n",
      "1  The response lacked detail about how the stude...   \n",
      "2  The response briefly mentioned the use of incl...   \n",
      "3  The student demonstrated strong leadership ski...   \n",
      "4  The student effectively analyzed the situation...   \n",
      "\n",
      "                                          applied_to  \n",
      "0  [223117, 208512, 454245, 189088, 128106, 13077...  \n",
      "1           [163338, 168421, 123554, 127185, 218973]  \n",
      "2                                   [399911, 186131]  \n",
      "3                                           [175980]  \n",
      "4  [228501, 186584, 234076, 160755, 217305, 12994...  \n"
     ]
    }
   ],
   "source": [
    "# Generate the dataset\n",
    "data = {\n",
    "    'applicant_id': [generate_applicant_id() for _ in range(1000)],\n",
    "    'name': [generate_name() for _ in range(1000)],\n",
    "    'casper_z': [generate_casper_score() for _ in range(1000)],\n",
    "    'parent_ed': [generate_highest_education_parents() for _ in range(1000)],\n",
    "    'household_income': [generate_household_income() for _ in range(1000)],\n",
    "}\n",
    "\n",
    "df = pd.DataFrame(data)\n",
    "\n",
    "df['zip'] = df_sampled_schools['zip_location'].values\n",
    "df['meps_poverty_pct'] = df_sampled_schools['meps_poverty_pct'].values\n",
    "df['summary'] = df_student_summaries['summary'].values\n",
    "# Generate the 'applied_to' column\n",
    "df['applied_to'] = [np.random.choice(unitids, size=np.random.randint(1, 9), \n",
    "                     replace=False).tolist() for _ in range(1000)]\n",
    "\n",
    "print(df.head())"
   ]
  },
  {
   "cell_type": "code",
   "execution_count": 38,
   "metadata": {},
   "outputs": [],
   "source": [
    "# Assuming df is your DataFrame\n",
    "json_data = df.to_json(orient='records')\n",
    "\n",
    "# To pretty-print the JSON\n",
    "parsed_json = json.loads(json_data)\n",
    "\n",
    "with open('applicants.json', 'w') as f:\n",
    "    json.dump(parsed_json, f, indent=4)"
   ]
  }
 ],
 "metadata": {
  "kernelspec": {
   "display_name": ".venv",
   "language": "python",
   "name": "python3"
  },
  "language_info": {
   "codemirror_mode": {
    "name": "ipython",
    "version": 3
   },
   "file_extension": ".py",
   "mimetype": "text/x-python",
   "name": "python",
   "nbconvert_exporter": "python",
   "pygments_lexer": "ipython3",
   "version": "3.13.1"
  }
 },
 "nbformat": 4,
 "nbformat_minor": 2
}
