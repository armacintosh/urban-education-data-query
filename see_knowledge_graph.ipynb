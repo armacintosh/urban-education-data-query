{
 "cells": [
  {
   "cell_type": "code",
   "execution_count": 9,
   "metadata": {},
   "outputs": [],
   "source": [
    "import networkx as nx\n",
    "import matplotlib.pyplot as plt\n",
    "from neo4j import GraphDatabase\n",
    "from dotenv import load_dotenv\n",
    "from pyvis.network import Network\n",
    "from neo4j import GraphDatabase\n",
    "import os"
   ]
  },
  {
   "cell_type": "code",
   "execution_count": null,
   "metadata": {},
   "outputs": [],
   "source": [
    "# Get the URI and authentication credentials from environment variables\n",
    "URI = os.getenv(\"NEO4J_URI\")\n",
    "AUTH = (os.getenv(\"NEO4J_USER\"), os.getenv(\"NEO4J_PASSWORD\"))\n",
    "\n",
    "# initalize the driver\n",
    "driver = GraphDatabase.driver(URI, auth=AUTH)"
   ]
  },
  {
   "cell_type": "code",
   "execution_count": 11,
   "metadata": {},
   "outputs": [
    {
     "name": "stdout",
     "output_type": "stream",
     "text": [
      "knowledge_graph.html\n"
     ]
    },
    {
     "ename": "AttributeError",
     "evalue": "'NoneType' object has no attribute 'render'",
     "output_type": "error",
     "traceback": [
      "\u001b[0;31m---------------------------------------------------------------------------\u001b[0m",
      "\u001b[0;31mAttributeError\u001b[0m                            Traceback (most recent call last)",
      "Cell \u001b[0;32mIn[11], line 59\u001b[0m\n\u001b[1;32m     56\u001b[0m     net\u001b[38;5;241m.\u001b[39mshow(\u001b[38;5;124m\"\u001b[39m\u001b[38;5;124mknowledge_graph.html\u001b[39m\u001b[38;5;124m\"\u001b[39m)\n\u001b[1;32m     58\u001b[0m \u001b[38;5;66;03m# Run the visualization\u001b[39;00m\n\u001b[0;32m---> 59\u001b[0m \u001b[43mvisualize_knowledge_graph_interactive\u001b[49m\u001b[43m(\u001b[49m\u001b[43m)\u001b[49m\n",
      "Cell \u001b[0;32mIn[11], line 56\u001b[0m, in \u001b[0;36mvisualize_knowledge_graph_interactive\u001b[0;34m()\u001b[0m\n\u001b[1;32m     48\u001b[0m     net\u001b[38;5;241m.\u001b[39madd_edge(\n\u001b[1;32m     49\u001b[0m         rel[\u001b[38;5;124m\"\u001b[39m\u001b[38;5;124mstartNode\u001b[39m\u001b[38;5;124m\"\u001b[39m],\n\u001b[1;32m     50\u001b[0m         rel[\u001b[38;5;124m\"\u001b[39m\u001b[38;5;124mendNode\u001b[39m\u001b[38;5;124m\"\u001b[39m],\n\u001b[1;32m     51\u001b[0m         title\u001b[38;5;241m=\u001b[39mrel[\u001b[38;5;124m\"\u001b[39m\u001b[38;5;124mtype\u001b[39m\u001b[38;5;124m\"\u001b[39m],  \u001b[38;5;66;03m# Tooltip shows relationship type\u001b[39;00m\n\u001b[1;32m     52\u001b[0m         label\u001b[38;5;241m=\u001b[39mrel[\u001b[38;5;124m\"\u001b[39m\u001b[38;5;124mtype\u001b[39m\u001b[38;5;124m\"\u001b[39m]   \u001b[38;5;66;03m# Edge label shows the relationship type\u001b[39;00m\n\u001b[1;32m     53\u001b[0m     )\n\u001b[1;32m     55\u001b[0m \u001b[38;5;66;03m# Generate and open the graph\u001b[39;00m\n\u001b[0;32m---> 56\u001b[0m \u001b[43mnet\u001b[49m\u001b[38;5;241;43m.\u001b[39;49m\u001b[43mshow\u001b[49m\u001b[43m(\u001b[49m\u001b[38;5;124;43m\"\u001b[39;49m\u001b[38;5;124;43mknowledge_graph.html\u001b[39;49m\u001b[38;5;124;43m\"\u001b[39;49m\u001b[43m)\u001b[49m\n",
      "File \u001b[0;32m~/Documents/GitHub/prototypes/urban-education-data/.venv/lib/python3.13/site-packages/pyvis/network.py:546\u001b[0m, in \u001b[0;36mNetwork.show\u001b[0;34m(self, name, local, notebook)\u001b[0m\n\u001b[1;32m    544\u001b[0m \u001b[38;5;28mprint\u001b[39m(name)\n\u001b[1;32m    545\u001b[0m \u001b[38;5;28;01mif\u001b[39;00m notebook:\n\u001b[0;32m--> 546\u001b[0m     \u001b[38;5;28;43mself\u001b[39;49m\u001b[38;5;241;43m.\u001b[39;49m\u001b[43mwrite_html\u001b[49m\u001b[43m(\u001b[49m\u001b[43mname\u001b[49m\u001b[43m,\u001b[49m\u001b[43m \u001b[49m\u001b[43mopen_browser\u001b[49m\u001b[38;5;241;43m=\u001b[39;49m\u001b[38;5;28;43;01mFalse\u001b[39;49;00m\u001b[43m,\u001b[49m\u001b[43mnotebook\u001b[49m\u001b[38;5;241;43m=\u001b[39;49m\u001b[38;5;28;43;01mTrue\u001b[39;49;00m\u001b[43m)\u001b[49m\n\u001b[1;32m    547\u001b[0m \u001b[38;5;28;01melse\u001b[39;00m:\n\u001b[1;32m    548\u001b[0m     \u001b[38;5;28mself\u001b[39m\u001b[38;5;241m.\u001b[39mwrite_html(name, open_browser\u001b[38;5;241m=\u001b[39m\u001b[38;5;28;01mTrue\u001b[39;00m)\n",
      "File \u001b[0;32m~/Documents/GitHub/prototypes/urban-education-data/.venv/lib/python3.13/site-packages/pyvis/network.py:515\u001b[0m, in \u001b[0;36mNetwork.write_html\u001b[0;34m(self, name, local, notebook, open_browser)\u001b[0m\n\u001b[1;32m    513\u001b[0m getcwd_name \u001b[38;5;241m=\u001b[39m name\n\u001b[1;32m    514\u001b[0m check_html(getcwd_name)\n\u001b[0;32m--> 515\u001b[0m \u001b[38;5;28mself\u001b[39m\u001b[38;5;241m.\u001b[39mhtml \u001b[38;5;241m=\u001b[39m \u001b[38;5;28;43mself\u001b[39;49m\u001b[38;5;241;43m.\u001b[39;49m\u001b[43mgenerate_html\u001b[49m\u001b[43m(\u001b[49m\u001b[43mnotebook\u001b[49m\u001b[38;5;241;43m=\u001b[39;49m\u001b[43mnotebook\u001b[49m\u001b[43m)\u001b[49m\n\u001b[1;32m    517\u001b[0m \u001b[38;5;28;01mif\u001b[39;00m \u001b[38;5;28mself\u001b[39m\u001b[38;5;241m.\u001b[39mcdn_resources \u001b[38;5;241m==\u001b[39m \u001b[38;5;124m\"\u001b[39m\u001b[38;5;124mlocal\u001b[39m\u001b[38;5;124m\"\u001b[39m:\n\u001b[1;32m    518\u001b[0m     \u001b[38;5;28;01mif\u001b[39;00m \u001b[38;5;129;01mnot\u001b[39;00m os\u001b[38;5;241m.\u001b[39mpath\u001b[38;5;241m.\u001b[39mexists(\u001b[38;5;124m\"\u001b[39m\u001b[38;5;124mlib\u001b[39m\u001b[38;5;124m\"\u001b[39m):\n",
      "File \u001b[0;32m~/Documents/GitHub/prototypes/urban-education-data/.venv/lib/python3.13/site-packages/pyvis/network.py:479\u001b[0m, in \u001b[0;36mNetwork.generate_html\u001b[0;34m(self, name, local, notebook)\u001b[0m\n\u001b[1;32m    476\u001b[0m \u001b[38;5;28;01melse\u001b[39;00m:\n\u001b[1;32m    477\u001b[0m     physics_enabled \u001b[38;5;241m=\u001b[39m \u001b[38;5;28mself\u001b[39m\u001b[38;5;241m.\u001b[39moptions\u001b[38;5;241m.\u001b[39mphysics\u001b[38;5;241m.\u001b[39menabled\n\u001b[0;32m--> 479\u001b[0m \u001b[38;5;28mself\u001b[39m\u001b[38;5;241m.\u001b[39mhtml \u001b[38;5;241m=\u001b[39m \u001b[43mtemplate\u001b[49m\u001b[38;5;241;43m.\u001b[39;49m\u001b[43mrender\u001b[49m(height\u001b[38;5;241m=\u001b[39mheight,\n\u001b[1;32m    480\u001b[0m                             width\u001b[38;5;241m=\u001b[39mwidth,\n\u001b[1;32m    481\u001b[0m                             nodes\u001b[38;5;241m=\u001b[39mnodes,\n\u001b[1;32m    482\u001b[0m                             edges\u001b[38;5;241m=\u001b[39medges,\n\u001b[1;32m    483\u001b[0m                             heading\u001b[38;5;241m=\u001b[39mheading,\n\u001b[1;32m    484\u001b[0m                             options\u001b[38;5;241m=\u001b[39moptions,\n\u001b[1;32m    485\u001b[0m                             physics_enabled\u001b[38;5;241m=\u001b[39mphysics_enabled,\n\u001b[1;32m    486\u001b[0m                             use_DOT\u001b[38;5;241m=\u001b[39m\u001b[38;5;28mself\u001b[39m\u001b[38;5;241m.\u001b[39muse_DOT,\n\u001b[1;32m    487\u001b[0m                             dot_lang\u001b[38;5;241m=\u001b[39m\u001b[38;5;28mself\u001b[39m\u001b[38;5;241m.\u001b[39mdot_lang,\n\u001b[1;32m    488\u001b[0m                             widget\u001b[38;5;241m=\u001b[39m\u001b[38;5;28mself\u001b[39m\u001b[38;5;241m.\u001b[39mwidget,\n\u001b[1;32m    489\u001b[0m                             bgcolor\u001b[38;5;241m=\u001b[39m\u001b[38;5;28mself\u001b[39m\u001b[38;5;241m.\u001b[39mbgcolor,\n\u001b[1;32m    490\u001b[0m                             conf\u001b[38;5;241m=\u001b[39m\u001b[38;5;28mself\u001b[39m\u001b[38;5;241m.\u001b[39mconf,\n\u001b[1;32m    491\u001b[0m                             tooltip_link\u001b[38;5;241m=\u001b[39muse_link_template,\n\u001b[1;32m    492\u001b[0m                             neighborhood_highlight\u001b[38;5;241m=\u001b[39m\u001b[38;5;28mself\u001b[39m\u001b[38;5;241m.\u001b[39mneighborhood_highlight,\n\u001b[1;32m    493\u001b[0m                             select_menu\u001b[38;5;241m=\u001b[39m\u001b[38;5;28mself\u001b[39m\u001b[38;5;241m.\u001b[39mselect_menu,\n\u001b[1;32m    494\u001b[0m                             filter_menu\u001b[38;5;241m=\u001b[39m\u001b[38;5;28mself\u001b[39m\u001b[38;5;241m.\u001b[39mfilter_menu,\n\u001b[1;32m    495\u001b[0m                             notebook\u001b[38;5;241m=\u001b[39mnotebook,\n\u001b[1;32m    496\u001b[0m                             cdn_resources\u001b[38;5;241m=\u001b[39m\u001b[38;5;28mself\u001b[39m\u001b[38;5;241m.\u001b[39mcdn_resources\n\u001b[1;32m    497\u001b[0m                             )\n\u001b[1;32m    498\u001b[0m \u001b[38;5;28;01mreturn\u001b[39;00m \u001b[38;5;28mself\u001b[39m\u001b[38;5;241m.\u001b[39mhtml\n",
      "\u001b[0;31mAttributeError\u001b[0m: 'NoneType' object has no attribute 'render'"
     ]
    }
   ],
   "source": [
    "# Query the graph to extract nodes and relationships\n",
    "def fetch_graph_data():\n",
    "    query = \"\"\"\n",
    "    MATCH (n)-[r]->(m)\n",
    "    RETURN n, r, m\n",
    "    \"\"\"\n",
    "    nodes = {}\n",
    "    relationships = []\n",
    "    with driver.session() as session:\n",
    "        for record in session.run(query):\n",
    "            # Add nodes\n",
    "            for node in [record[\"n\"], record[\"m\"]]:\n",
    "                node_id = node[\"name\"]\n",
    "                if node_id not in nodes:\n",
    "                    nodes[node_id] = {\n",
    "                        \"id\": node_id,\n",
    "                        \"type\": list(node.labels)[0],  # Node type (Variable, Source, Endpoint)\n",
    "                        \"properties\": dict(node)      # Node properties (e.g., format, label)\n",
    "                    }\n",
    "\n",
    "            # Add relationships\n",
    "            relationships.append({\n",
    "                \"type\": record[\"r\"].type,\n",
    "                \"startNode\": record[\"r\"].start_node[\"name\"],\n",
    "                \"endNode\": record[\"r\"].end_node[\"name\"]\n",
    "            })\n",
    "\n",
    "    return nodes, relationships\n",
    "\n",
    "# Visualize the graph with Pyvis\n",
    "def visualize_knowledge_graph_interactive():\n",
    "    nodes, relationships = fetch_graph_data()\n",
    "\n",
    "    # Create a Pyvis network\n",
    "    net = Network(height=\"750px\", width=\"100%\", directed=True)\n",
    "\n",
    "    # Add nodes\n",
    "    for node_id, node_data in nodes.items():\n",
    "        net.add_node(\n",
    "            node_id,\n",
    "            label=f\"{node_data['type']} ({node_id})\",  # Label shows type and node ID\n",
    "            title=str(node_data[\"properties\"]),       # Tooltip shows properties\n",
    "            shape=\"dot\"                               # Use a dot shape for simplicity\n",
    "        )\n",
    "\n",
    "    # Add edges\n",
    "    for rel in relationships:\n",
    "        net.add_edge(\n",
    "            rel[\"startNode\"],\n",
    "            rel[\"endNode\"],\n",
    "            title=rel[\"type\"],  # Tooltip shows relationship type\n",
    "            label=rel[\"type\"]   # Edge label shows the relationship type\n",
    "        )\n",
    "\n",
    "    # Generate and open the graph\n",
    "    net.show(\"knowledge_graph.html\")\n",
    "\n",
    "# Run the visualization\n",
    "visualize_knowledge_graph_interactive()"
   ]
  }
 ],
 "metadata": {
  "kernelspec": {
   "display_name": ".venv",
   "language": "python",
   "name": "python3"
  },
  "language_info": {
   "codemirror_mode": {
    "name": "ipython",
    "version": 3
   },
   "file_extension": ".py",
   "mimetype": "text/x-python",
   "name": "python",
   "nbconvert_exporter": "python",
   "pygments_lexer": "ipython3",
   "version": "3.13.1"
  }
 },
 "nbformat": 4,
 "nbformat_minor": 2
}
