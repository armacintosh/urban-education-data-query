{
 "cells": [
  {
   "cell_type": "markdown",
   "metadata": {},
   "source": [
    "# Setup"
   ]
  },
  {
   "cell_type": "code",
   "execution_count": 15,
   "metadata": {},
   "outputs": [
    {
     "data": {
      "text/plain": [
       "True"
      ]
     },
     "execution_count": 15,
     "metadata": {},
     "output_type": "execute_result"
    }
   ],
   "source": [
    "import pandas as pd\n",
    "from neo4j import GraphDatabase\n",
    "from dotenv import load_dotenv\n",
    "import os\n",
    "import glob\n",
    "import json\n",
    "\n",
    "# Load environment variables from .env file\n",
    "load_dotenv()"
   ]
  },
  {
   "cell_type": "code",
   "execution_count": 11,
   "metadata": {},
   "outputs": [],
   "source": [
    "\n",
    "# Get the URI and authentication credentials from environment variables\n",
    "URI = os.getenv(\"NEO4J_URI\")\n",
    "AUTH = (os.getenv(\"NEO4J_USER\"), os.getenv(\"NEO4J_PASSWORD\"))\n",
    "\n",
    "# initalize the driver\n",
    "driver = GraphDatabase.driver(URI, auth=AUTH)\n"
   ]
  },
  {
   "cell_type": "markdown",
   "metadata": {},
   "source": [
    "# Functions"
   ]
  },
  {
   "cell_type": "code",
   "execution_count": 7,
   "metadata": {},
   "outputs": [],
   "source": [
    "# Function to run a query\n",
    "def run_query(query, parameters):\n",
    "    with driver.session() as session:\n",
    "        session.run(query, parameters)\n",
    "        \n",
    "# Create Nodes and Relationships in Neo4j\n",
    "def create_knowledge_graph(data, source, endpoint_name):\n",
    "    for _, row in data.iterrows():\n",
    "        variable_name = row['variable']\n",
    "        format = row['format']\n",
    "        label = row['label']\n",
    "\n",
    "        # Create or update Variable node\n",
    "        variable_query = \"\"\"\n",
    "        MERGE (v:Variable {name: $name})\n",
    "        ON CREATE SET v.format = $format, v.label = $label\n",
    "        ON MATCH SET v.format = $format, v.label = $label\n",
    "        \"\"\"\n",
    "        run_query(variable_query, {\"name\": variable_name, \"format\": format, \"label\": label})\n",
    "\n",
    "        # Create or update Source node\n",
    "        source_query = \"\"\"\n",
    "        MERGE (s:Source {name: $name})\n",
    "        \"\"\"\n",
    "        run_query(source_query, {\"name\": source})\n",
    "\n",
    "        # Create or update Endpoint node\n",
    "        endpoint_query = \"\"\"\n",
    "        MERGE (e:Endpoint {name: $name})\n",
    "        \"\"\"\n",
    "        run_query(endpoint_query, {\"name\": endpoint_name})\n",
    "\n",
    "        # Create or update Relationships\n",
    "        relationship_query_1 = \"\"\"\n",
    "        MATCH (v:Variable {name: $variable_name})\n",
    "        MATCH (e:Endpoint {name: $endpoint_name})\n",
    "        MERGE (v)-[:EXISTS_IN]->(e)\n",
    "        \"\"\"\n",
    "        run_query(relationship_query_1, {\"variable_name\": variable_name, \"endpoint_name\": endpoint_name})\n",
    "\n",
    "        relationship_query_2 = \"\"\"\n",
    "        MATCH (e:Endpoint {name: $endpoint_name})\n",
    "        MATCH (s:Source {name: $source})\n",
    "        MERGE (e)-[:PROVIDED_BY]->(s)\n",
    "        \"\"\"\n",
    "        run_query(relationship_query_2, {\"endpoint_name\": endpoint_name, \"source\": source})\n",
    "\n",
    "        relationship_query_3 = \"\"\"\n",
    "        MATCH (v:Variable {name: $variable_name})\n",
    "        MATCH (s:Source {name: $source})\n",
    "        MERGE (v)-[:PROVIDED_BY]->(s)\n",
    "        \"\"\"\n",
    "        run_query(relationship_query_3, {\"variable_name\": variable_name, \"source\": source})        \n",
    "\n",
    "# Process all codebook files in the folder\n",
    "def process_codebooks(folder_path):\n",
    "    # Get all Excel files matching the naming convention\n",
    "    codebook_files = glob.glob(os.path.join(folder_path, \"codebook_*.xlsx\"))\n",
    "\n",
    "    for file_path in codebook_files:\n",
    "        # Extract metadata from the filename\n",
    "        filename = os.path.basename(file_path)\n",
    "        _, topic, source, endpoint_name = filename.split('_')\n",
    "        endpoint_name = endpoint_name.replace('.xlsx', '')\n",
    "\n",
    "        # Load the Excel file\n",
    "        df = pd.read_excel(file_path, sheet_name='variables')\n",
    "\n",
    "        # Add source and endpoint_name to DataFrame\n",
    "        df['source'] = source\n",
    "        df['endpoint_name'] = endpoint_name\n",
    "\n",
    "        # Populate the knowledge graph\n",
    "        create_knowledge_graph(df, source, endpoint_name)"
   ]
  },
  {
   "cell_type": "markdown",
   "metadata": {},
   "source": [
    "# Process Codebooks"
   ]
  },
  {
   "cell_type": "code",
   "execution_count": 12,
   "metadata": {},
   "outputs": [
    {
     "name": "stdout",
     "output_type": "stream",
     "text": [
      "Knowledge graph populated for all codebooks!\n"
     ]
    }
   ],
   "source": [
    "# Path to the folder containing codebook files\n",
    "folder_path = \"data/codebooks/\"\n",
    "\n",
    "# Process all codebooks in the folder\n",
    "process_codebooks(folder_path)\n",
    "\n",
    "print(\"Knowledge graph populated for all codebooks!\")"
   ]
  },
  {
   "cell_type": "markdown",
   "metadata": {},
   "source": [
    "- Next here to scale across all codebooks"
   ]
  },
  {
   "cell_type": "code",
   "execution_count": 20,
   "metadata": {},
   "outputs": [
    {
     "name": "stdout",
     "output_type": "stream",
     "text": [
      "Connected! Test Query Result: 1\n"
     ]
    }
   ],
   "source": [
    "# Attempt to connect to Neo4j Aura\n",
    "try:\n",
    "    with GraphDatabase.driver(URI, auth=AUTH) as driver:\n",
    "        with driver.session() as session:\n",
    "            result = session.run(\"RETURN 1 AS test\")\n",
    "            for record in result:\n",
    "                print(\"Connected! Test Query Result:\", record[\"test\"])\n",
    "except Exception as e:\n",
    "    print(\"Error:\", e)"
   ]
  },
  {
   "cell_type": "code",
   "execution_count": null,
   "metadata": {},
   "outputs": [
    {
     "name": "stderr",
     "output_type": "stream",
     "text": [
      "/var/folders/cc/rk1x9by94ks5m201ycvs1b0m0000gn/T/ipykernel_50853/3368087144.py:5: DeprecationWarning: Using a driver after it has been closed is deprecated. Future versions of the driver will raise an error.\n",
      "  with driver.session() as session:\n"
     ]
    },
    {
     "name": "stdout",
     "output_type": "stream",
     "text": [
      "Knowledge graph populated!\n"
     ]
    }
   ],
   "source": [
    "# Function to run a query\n",
    "def run_query(query, parameters):\n",
    "    with driver.session() as session:\n",
    "        session.run(query, parameters)\n",
    "\n",
    "# Create Nodes and Relationships in Neo4j\n",
    "def create_knowledge_graph(data):\n",
    "    for _, row in data.iterrows():\n",
    "        variable_name = row['variable']\n",
    "        format = row['format']\n",
    "        label = row['label']\n",
    "        source = row['source']\n",
    "        endpoint_name = row['endpoint_name']\n",
    "\n",
    "        # Create Variable node\n",
    "        variable_query = \"\"\"\n",
    "        MERGE (v:Variable {name: $name})\n",
    "        ON CREATE SET v.format = $format, v.label = $label\n",
    "        \"\"\"\n",
    "        run_query(variable_query, {\"name\": variable_name, \"format\": format, \"label\": label})\n",
    "\n",
    "        # Create Source node\n",
    "        source_query = \"\"\"\n",
    "        MERGE (s:Source {name: $name})\n",
    "        \"\"\"\n",
    "        run_query(source_query, {\"name\": source})\n",
    "\n",
    "        # Create Endpoint Name node\n",
    "        endpoint_query = \"\"\"\n",
    "        MERGE (e:Endpoint {name: $name})\n",
    "        \"\"\"\n",
    "        run_query(endpoint_query, {\"name\": endpoint_name})\n",
    "\n",
    "        # Create Relationships\n",
    "        relationship_query_1 = \"\"\"\n",
    "        MATCH (v:Variable {name: $variable_name})\n",
    "        MATCH (e:Endpoint {name: $endpoint_name})\n",
    "        MERGE (v)-[:EXISTS_IN]->(e)\n",
    "        \"\"\"\n",
    "        run_query(relationship_query_1, {\"variable_name\": variable_name, \"endpoint_name\": endpoint_name})\n",
    "\n",
    "        relationship_query_2 = \"\"\"\n",
    "        MATCH (e:Endpoint {name: $endpoint_name})\n",
    "        MATCH (s:Source {name: $source})\n",
    "        MERGE (e)-[:PROVIDED_BY]->(s)\n",
    "        \"\"\"\n",
    "        run_query(relationship_query_2, {\"endpoint_name\": endpoint_name, \"source\": source})\n",
    "\n",
    "        relationship_query_3 = \"\"\"\n",
    "        MATCH (v:Variable {name: $variable_name})\n",
    "        MATCH (s:Source {name: $source})\n",
    "        MERGE (v)-[:PROVIDED_BY]->(s)\n",
    "        \"\"\"\n",
    "        run_query(relationship_query_3, {\"variable_name\": variable_name, \"source\": source})\n",
    "\n",
    "# Call the function with your DataFrame\n",
    "create_knowledge_graph(df)\n",
    "\n",
    "print(\"Knowledge graph populated!\")"
   ]
  },
  {
   "cell_type": "code",
   "execution_count": 13,
   "metadata": {},
   "outputs": [
    {
     "name": "stdout",
     "output_type": "stream",
     "text": [
      "Connection successful!\n"
     ]
    }
   ],
   "source": [
    "# Check the data in the graph\n",
    "with GraphDatabase.driver(URI, auth=AUTH) as driver:\n",
    "    with driver.session() as session:\n",
    "        result = session.run(\"RETURN 'Connection successful!' AS message\")\n",
    "        for record in result:\n",
    "            print(record[\"message\"])"
   ]
  },
  {
   "cell_type": "markdown",
   "metadata": {},
   "source": [
    "## Write knowledge graph to json"
   ]
  },
  {
   "cell_type": "code",
   "execution_count": 17,
   "metadata": {},
   "outputs": [],
   "source": [
    "def fetch_graph_as_json(driver):\n",
    "    \"\"\"\n",
    "    Fetch all nodes and relationships from Neo4j and return as JSON.\n",
    "    Args:\n",
    "        driver: The Neo4j driver instance.\n",
    "    Returns:\n",
    "        A JSON object containing nodes and relationships.\n",
    "    \"\"\"\n",
    "    query = \"\"\"\n",
    "    MATCH (n)-[r]->(m)\n",
    "    RETURN n, r, m\n",
    "    \"\"\"\n",
    "    graph_data = {\"nodes\": [], \"relationships\": []}\n",
    "    node_ids = set()  # To avoid duplicate nodes\n",
    "\n",
    "    with driver.session() as session:\n",
    "        results = session.run(query)\n",
    "        for record in results:\n",
    "            # Add start node\n",
    "            start_node = record[\"n\"]\n",
    "            if start_node.element_id not in node_ids:\n",
    "                graph_data[\"nodes\"].append({\n",
    "                    \"id\": start_node.element_id,\n",
    "                    \"labels\": list(start_node.labels),\n",
    "                    \"properties\": dict(start_node)\n",
    "                })\n",
    "                node_ids.add(start_node.element_id)\n",
    "\n",
    "            # Add end node\n",
    "            end_node = record[\"m\"]\n",
    "            if end_node.element_id not in node_ids:\n",
    "                graph_data[\"nodes\"].append({\n",
    "                    \"id\": end_node.element_id,\n",
    "                    \"labels\": list(end_node.labels),\n",
    "                    \"properties\": dict(end_node)\n",
    "                })\n",
    "                node_ids.add(end_node.element_id)\n",
    "\n",
    "            # Add relationship\n",
    "            relationship = record[\"r\"]\n",
    "            graph_data[\"relationships\"].append({\n",
    "                \"id\": relationship.element_id,\n",
    "                \"type\": relationship.type,\n",
    "                \"startNode\": relationship.start_node.element_id,\n",
    "                \"endNode\": relationship.end_node.element_id,\n",
    "                \"properties\": dict(relationship)\n",
    "            })\n",
    "\n",
    "    return graph_data\n",
    "\n",
    "def remove_embedding_property(graph_data):\n",
    "    \"\"\"\n",
    "    Remove the 'embedding' property from all nodes in the graph data.\n",
    "    Args:\n",
    "        graph_data: The JSON object containing nodes and relationships.\n",
    "    Returns:\n",
    "        The updated graph data with 'embedding' removed from node properties.\n",
    "    \"\"\"\n",
    "    for node in graph_data[\"nodes\"]:\n",
    "        if \"embedding\" in node[\"properties\"]:\n",
    "            del node[\"properties\"][\"embedding\"]\n",
    "    return graph_data\n"
   ]
  },
  {
   "cell_type": "code",
   "execution_count": 16,
   "metadata": {},
   "outputs": [
    {
     "name": "stderr",
     "output_type": "stream",
     "text": [
      "/var/folders/cc/rk1x9by94ks5m201ycvs1b0m0000gn/T/ipykernel_85976/971562375.py:16: DeprecationWarning: Using a driver after it has been closed is deprecated. Future versions of the driver will raise an error.\n",
      "  with driver.session() as session:\n"
     ]
    },
    {
     "name": "stdout",
     "output_type": "stream",
     "text": [
      "Graph data saved to graph_data.json without embeddings\n"
     ]
    }
   ],
   "source": [
    "# Fetch the graph data\n",
    "graph_json = fetch_graph_as_json(driver)\n",
    "\n",
    "# Remove 'embedding' property\n",
    "graph_json = remove_embedding_property(graph_json)\n",
    "\n",
    "# Save to a JSON file\n",
    "with open(\"graph_data.json\", \"w\") as f:\n",
    "    json.dump(graph_json, f, indent=4)\n",
    "\n",
    "print(\"Graph data saved to graph_data.json without embeddings\")"
   ]
  },
  {
   "cell_type": "markdown",
   "metadata": {},
   "source": [
    "# Query the Graph"
   ]
  },
  {
   "cell_type": "code",
   "execution_count": null,
   "metadata": {},
   "outputs": [],
   "source": [
    "def get_variables_and_sources():\n",
    "    query = \"\"\"\n",
    "    MATCH (v:Variable)-[:EXISTS_IN]->(e:Endpoint)-[:PROVIDED_BY]->(s:Source)\n",
    "    RETURN v.name AS variable, v.label AS label, e.name AS endpoint, s.name AS source\n",
    "    \"\"\"\n",
    "    with driver.session() as session:\n",
    "        result = session.run(query)\n",
    "        for record in result:\n",
    "            print(\n",
    "                f\"Variable: {record['variable']}, \"\n",
    "                f\"Label: {record['label']}, \"\n",
    "                f\"Endpoint: {record['endpoint']}, \"\n",
    "                f\"Source: {record['source']}\"\n",
    "            )\n",
    "\n",
    "# Call the function to test\n",
    "get_variables_and_sources()"
   ]
  },
  {
   "cell_type": "code",
   "execution_count": null,
   "metadata": {},
   "outputs": [],
   "source": [
    "def get_relationships():\n",
    "    query = \"\"\"\n",
    "    MATCH (a)-[r]->(b)\n",
    "    RETURN a.name AS from_node, type(r) AS relationship, b.name AS to_node\n",
    "    \"\"\"\n",
    "    with driver.session() as session:\n",
    "        result = session.run(query)\n",
    "        print(\"Relationships in the Graph:\")\n",
    "        for record in result:\n",
    "            print(\n",
    "                f\"From: {record['from_node']}, \"\n",
    "                f\"Relationship: {record['relationship']}, \"\n",
    "                f\"To: {record['to_node']}\"\n",
    "            )\n",
    "\n",
    "# Call the function to test\n",
    "get_relationships()"
   ]
  },
  {
   "cell_type": "markdown",
   "metadata": {},
   "source": [
    "# add colleges metadata"
   ]
  },
  {
   "cell_type": "code",
   "execution_count": null,
   "metadata": {},
   "outputs": [],
   "source": [
    "\n",
    "# Load the metadata file\n",
    "with open(\"data/colleges_meta_data.json\") as meta_file:\n",
    "    metadata = json.load(meta_file)\n",
    "    \n",
    "# Extract metadata for sources and endpoints\n",
    "source_metadata = {item[\"source\"]: item for item in metadata}\n",
    "endpoint_metadata = {}\n",
    "for item in metadata:\n",
    "    for endpoint in item.get(\"endpoints\", []):\n",
    "        endpoint_metadata[endpoint[\"endpoint\"].lower()] = endpoint"
   ]
  },
  {
   "cell_type": "code",
   "execution_count": 22,
   "metadata": {},
   "outputs": [
    {
     "name": "stderr",
     "output_type": "stream",
     "text": [
      "/var/folders/cc/rk1x9by94ks5m201ycvs1b0m0000gn/T/ipykernel_85976/2897872933.py:12: DeprecationWarning: Using a driver after it has been closed is deprecated. Future versions of the driver will raise an error.\n",
      "  with driver.session() as session:\n"
     ]
    }
   ],
   "source": [
    "# Function to update node properties\n",
    "def update_node_properties(tx, label, name, properties):\n",
    "    query = f\"\"\"\n",
    "    MATCH (n:{label} {{name: $name}})\n",
    "    SET n += $properties\n",
    "    \"\"\"\n",
    "    tx.run(query, name=name, properties=properties)\n",
    "\n",
    "# Update graph nodes\n",
    "try:\n",
    "    # Create session and update nodes\n",
    "    with driver.session() as session:\n",
    "        # Update source nodes\n",
    "        for source, data in source_metadata.items():\n",
    "            session.execute_write(\n",
    "                update_node_properties, \n",
    "                \"Source\", \n",
    "                source.lower(), \n",
    "                {\"description\": data.get(\"description\"), \"url\": data.get(\"url\")}\n",
    "            )\n",
    "\n",
    "        # Update endpoint nodes\n",
    "        for endpoint, data in endpoint_metadata.items():\n",
    "            session.execute_write(\n",
    "                update_node_properties, \n",
    "                \"Endpoint\", \n",
    "                endpoint.lower(), \n",
    "                {\"description\": data.get(\"description\"), \"data_range\": data.get(\"data_range\")}\n",
    "            )\n",
    "finally:\n",
    "    # Close the driver after all operations are complete\n",
    "    driver.close()"
   ]
  }
 ],
 "metadata": {
  "kernelspec": {
   "display_name": ".venv",
   "language": "python",
   "name": "python3"
  },
  "language_info": {
   "codemirror_mode": {
    "name": "ipython",
    "version": 3
   },
   "file_extension": ".py",
   "mimetype": "text/x-python",
   "name": "python",
   "nbconvert_exporter": "python",
   "pygments_lexer": "ipython3",
   "version": "3.13.1"
  }
 },
 "nbformat": 4,
 "nbformat_minor": 2
}
