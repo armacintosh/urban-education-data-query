{
 "cells": [
  {
   "cell_type": "markdown",
   "metadata": {},
   "source": [
    "# Setup"
   ]
  },
  {
   "cell_type": "markdown",
   "metadata": {},
   "source": [
    "**Connecting to a Neo4j Database and Using OpenAI's API to Generate Cypher Queries**\n",
    "\n",
    "Here are the key steps:\n",
    "\n",
    "- **Import Libraries**: Import necessary libraries such as pandas, neo4j, openai, dotenv, and custom utilities.\n",
    "- **Load Environment Variables**: Use `load_dotenv()` to load environment variables from a `.env` file.\n",
    "- **Retrieve Credentials**: Get the URI and authentication credentials for Neo4j and OpenAI from environment variables.\n",
    "- **Initialize Neo4j Driver**: Initialize the Neo4j driver using the retrieved URI and authentication credentials.\n",
    "- **Connect to OpenAI**: Set up the OpenAI client with the API key from the environment variables.\n",
    "- **Generate Cypher Query**: Define a function `generate_cypher_query(user_query)` that uses OpenAI's API to generate a Cypher query based on a user query.\n",
    "- **Example Usage**: Provide an example of how to use the `generate_cypher_query` function to generate a Cypher query from a user input.\n",
    "\n",
    "These steps outline the process of setting up connections and generating queries using the specified tools and libraries.\n"
   ]
  },
  {
   "cell_type": "code",
   "execution_count": 1,
   "metadata": {},
   "outputs": [
    {
     "data": {
      "text/plain": [
       "True"
      ]
     },
     "execution_count": 1,
     "metadata": {},
     "output_type": "execute_result"
    }
   ],
   "source": [
    "import pandas as pd\n",
    "from neo4j import GraphDatabase\n",
    "from openai import OpenAI\n",
    "from dotenv import load_dotenv\n",
    "import os\n",
    "from utils import *\n",
    "\n",
    "# Load environment variables from .env file\n",
    "load_dotenv()"
   ]
  },
  {
   "cell_type": "code",
   "execution_count": 2,
   "metadata": {},
   "outputs": [],
   "source": [
    "# Get the URI and authentication credentials from environment variables\n",
    "URI = os.getenv(\"NEO4J_URI\")\n",
    "AUTH = (os.getenv(\"NEO4J_USER\"), os.getenv(\"NEO4J_PASSWORD\"))\n",
    "\n",
    "# initalize the driver\n",
    "driver = GraphDatabase.driver(URI, auth=AUTH)\n",
    "\n",
    "# connect to OpenAI\n",
    "client = OpenAI(\n",
    "    api_key=os.environ.get(\"OPENAI_API_KEY\"),  # This is the default and can be omitted\n",
    ")"
   ]
  },
  {
   "cell_type": "markdown",
   "metadata": {},
   "source": [
    "# Define a Querying Function\n"
   ]
  },
  {
   "cell_type": "code",
   "execution_count": 3,
   "metadata": {},
   "outputs": [],
   "source": [
    "def post_process_cypher_query(cypher_query):\n",
    "    \"\"\"\n",
    "    Post-process the Cypher query to ensure it matches the knowledge graph schema.\n",
    "    \"\"\"\n",
    "    # Define valid properties for the RETURN clause\n",
    "    valid_properties = [\"v.name\", \"v.label\", \"v.format\"]\n",
    "\n",
    "    # Extract the RETURN clause and validate it\n",
    "    if \"RETURN\" in cypher_query:\n",
    "        return_clause = cypher_query.split(\"RETURN\")[-1].strip()\n",
    "        cleaned_return = \", \".join(\n",
    "            [prop.strip() for prop in return_clause.split(\",\") if prop.strip() in valid_properties]\n",
    "        )\n",
    "\n",
    "        # If no valid fields remain, use a default RETURN clause\n",
    "        if not cleaned_return:\n",
    "            cleaned_return = \"v.name, v.label\"\n",
    "\n",
    "        # Reconstruct the query\n",
    "        cypher_query = cypher_query.split(\"RETURN\")[0] + \" RETURN \" + cleaned_return\n",
    "\n",
    "    return cypher_query"
   ]
  },
  {
   "cell_type": "code",
   "execution_count": 4,
   "metadata": {},
   "outputs": [],
   "source": [
    "# use OpenAI’s GPT or similar LLMs to generate the Cypher query.\n",
    "def generate_cypher_query(user_query, client):\n",
    "    \"\"\"\n",
    "    Use an LLM client to generate a Cypher query from the user query.\n",
    "    \"\"\"\n",
    "    # Format the prompt dynamically with the user's query\n",
    "    prompt = parse_user_query.format(user_query=user_query)\n",
    "\n",
    "    # Call the chat completion endpoint\n",
    "    chat_completion = client.chat.completions.create(\n",
    "        messages=[\n",
    "            {\"role\": \"system\", \"content\": \"You are a Cypher query expert.\"},\n",
    "            {\"role\": \"user\", \"content\": prompt}\n",
    "        ],\n",
    "        model=\"gpt-4o\",\n",
    "    )\n",
    "\n",
    "    # Extract the Cypher query from the response\n",
    "    try:\n",
    "        # Get the raw content\n",
    "        raw_content = chat_completion.choices[0].message.content.strip()\n",
    "\n",
    "        # Extract only the Cypher query block\n",
    "        if \"```\" in raw_content:\n",
    "            query_start = raw_content.find(\"```\") + 3\n",
    "            query_end = raw_content.rfind(\"```\")\n",
    "            cypher_query = raw_content[query_start:query_end].strip()\n",
    "        else:\n",
    "            cypher_query = raw_content.strip()\n",
    "\n",
    "        # Post-process the query to ensure it aligns with your schema\n",
    "        cypher_query = post_process_cypher_query(cypher_query)\n",
    "        return cypher_query\n",
    "    except Exception as e:\n",
    "        print(\"Error extracting Cypher query:\", e)\n",
    "        print(\"Raw response:\", chat_completion)\n",
    "        return None"
   ]
  },
  {
   "cell_type": "markdown",
   "metadata": {},
   "source": [
    "# Execute KG Query"
   ]
  },
  {
   "cell_type": "code",
   "execution_count": 5,
   "metadata": {},
   "outputs": [],
   "source": [
    "# Step 2: Define a Querying Function\n",
    "# Translate user queries into Cypher queries to fetch relevant data from Neo4j.\n",
    "\n",
    "def execute_cypher_query(cypher_query):\n",
    "    \"\"\"\n",
    "    Execute the generated Cypher query in the Neo4j database.\n",
    "    \"\"\"\n",
    "    with driver.session() as session:\n",
    "        result = session.run(cypher_query)\n",
    "        return [record.data() for record in result]"
   ]
  },
  {
   "cell_type": "code",
   "execution_count": 6,
   "metadata": {},
   "outputs": [],
   "source": [
    "def format_results(results, user_input):\n",
    "    \"\"\"\n",
    "    Format Neo4j results into a user-friendly response.\n",
    "    \"\"\"\n",
    "    if not results:\n",
    "        return f\"I understand you want to see what is available related to '{user_input}'.\\nUnfortunately, I couldn't find any relevant data in the knowledge graph.\"\n",
    "\n",
    "    # Start building the response\n",
    "    response = f\"I understand you want to see what is available related to '{user_input}'.\\n\"\n",
    "    response += \"Here is what I found:\\n\\n\"\n",
    "\n",
    "    # Iterate through the results and format them\n",
    "    for idx, record in enumerate(results, start=1):\n",
    "        variable = record.get(\"variable\", \"Unknown Variable\")\n",
    "        label = record.get(\"label\", \"No Description\")\n",
    "        source = record.get(\"source\", \"Unknown Source\")\n",
    "        endpoint = record.get(\"endpoint\", \"Unknown Endpoint\")\n",
    "\n",
    "        response += f\"{idx}. {variable}, {label}, is in {source} under the {endpoint}\\n\"\n",
    "\n",
    "    return response"
   ]
  },
  {
   "cell_type": "code",
   "execution_count": 11,
   "metadata": {},
   "outputs": [],
   "source": [
    "def process_user_query(user_query, client):\n",
    "    \"\"\"\n",
    "    Full workflow to process user query:\n",
    "    1. Generate Cypher query using LLM.\n",
    "    2. Execute the Cypher query in Neo4j.\n",
    "    3. Return a formatted response.\n",
    "    \"\"\"\n",
    "    # Step 1: Generate Cypher query\n",
    "    cypher_query = generate_cypher_query(user_query, client)\n",
    "    if not cypher_query:\n",
    "        return \"Sorry, I couldn't generate a query from your input.\"\n",
    "\n",
    "    # Step 2: Execute the Cypher query\n",
    "    results = execute_cypher_query(cypher_query)\n",
    "\n",
    "    # Step 3: Format and return results\n",
    "    return format_results(results, user_query)"
   ]
  },
  {
   "cell_type": "markdown",
   "metadata": {},
   "source": [
    "# TESTs"
   ]
  },
  {
   "cell_type": "code",
   "execution_count": 12,
   "metadata": {},
   "outputs": [
    {
     "name": "stdout",
     "output_type": "stream",
     "text": [
      "Cleaned Cypher Query:/n cypher\n",
      "MATCH (v:Variable)\n",
      "WHERE v.label CONTAINS \"retention\"\n",
      " RETURN v.name, v.label\n"
     ]
    }
   ],
   "source": [
    "# check the process_user_query function\n",
    "user_input = \"What variables are available about retention?\"\n",
    "cypher_query = generate_cypher_query(user_input, client)\n",
    "print(\"Cleaned Cypher Query:/n\", cypher_query)"
   ]
  },
  {
   "cell_type": "code",
   "execution_count": 15,
   "metadata": {},
   "outputs": [
    {
     "name": "stdout",
     "output_type": "stream",
     "text": [
      "I understand you want to see what is available related to 'What variables are available about applicant numbers?'.\n",
      "Unfortunately, I couldn't find any relevant data in the knowledge graph.\n"
     ]
    }
   ],
   "source": [
    "user_input = \"What variables are available about applicant numbers?\"\n",
    "response = process_user_query(user_input, client)\n",
    "print(response)"
   ]
  }
 ],
 "metadata": {
  "kernelspec": {
   "display_name": ".venv",
   "language": "python",
   "name": "python3"
  },
  "language_info": {
   "codemirror_mode": {
    "name": "ipython",
    "version": 3
   },
   "file_extension": ".py",
   "mimetype": "text/x-python",
   "name": "python",
   "nbconvert_exporter": "python",
   "pygments_lexer": "ipython3",
   "version": "3.13.1"
  }
 },
 "nbformat": 4,
 "nbformat_minor": 2
}
